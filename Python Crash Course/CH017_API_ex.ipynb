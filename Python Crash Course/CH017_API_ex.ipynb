{
 "cells": [
  {
   "cell_type": "code",
   "execution_count": 4,
   "metadata": {},
   "outputs": [
    {
     "name": "stdout",
     "output_type": "stream",
     "text": [
      "Status code: True\n",
      "Total repositories: 4601510\n",
      "Number of items: 30\n"
     ]
    }
   ],
   "source": [
    "import requests\n",
    "import pygal\n",
    "\n",
    "# 调用API并储存响应，最后输出调用情况\n",
    "url = 'https://api.github.com/search/repositories?q=language:java&sort=stars'\n",
    "r = requests.get(url)\n",
    "print('Status code:', r.status_code==200)\n",
    "\n",
    "# 将响应储存到变量中\n",
    "response_dict = r.json()\n",
    "print('Total repositories:', response_dict['total_count'])\n",
    "\n",
    "repo_dicts = response_dict['items']\n",
    "print('Number of items:', len(repo_dicts))\n",
    "\n",
    "names, stars = [], []\n",
    "for repo_dict in repo_dicts:\n",
    "    names.append(repo_dict['name'])\n",
    "    stars.append(repo_dict['stargazers_count'])\n",
    "\n",
    "chart = pygal.Bar(x_label_rotation=45, show_legend=False)\n",
    "chart.title = \"Most starred project of java\"\n",
    "chart.x_labels = names\n",
    "\n",
    "chart.add('', stars)\n",
    "chart.render_to_file('java_repo.svg')"
   ]
  }
 ],
 "metadata": {
  "kernelspec": {
   "display_name": "Python 3",
   "language": "python",
   "name": "python3"
  },
  "language_info": {
   "codemirror_mode": {
    "name": "ipython",
    "version": 3
   },
   "file_extension": ".py",
   "mimetype": "text/x-python",
   "name": "python",
   "nbconvert_exporter": "python",
   "pygments_lexer": "ipython3",
   "version": "3.6.5"
  }
 },
 "nbformat": 4,
 "nbformat_minor": 2
}
