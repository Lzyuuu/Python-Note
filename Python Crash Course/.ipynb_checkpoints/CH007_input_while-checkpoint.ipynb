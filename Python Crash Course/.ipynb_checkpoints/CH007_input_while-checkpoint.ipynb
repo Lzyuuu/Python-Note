{
 "cells": [
  {
   "cell_type": "markdown",
   "metadata": {},
   "source": [
    "# 七、用户输入和while循环"
   ]
  },
  {
   "cell_type": "code",
   "execution_count": 68,
   "metadata": {},
   "outputs": [
    {
     "name": "stdout",
     "output_type": "stream",
     "text": [
      "my love\n"
     ]
    }
   ],
   "source": [
    "# parrot.py\n",
    "message = input(\"Tell me something, and I will repeat it back to you.\\n\")\n",
    "print(message)"
   ]
  },
  {
   "cell_type": "code",
   "execution_count": 71,
   "metadata": {},
   "outputs": [
    {
     "name": "stdout",
     "output_type": "stream",
     "text": [
      "Hello! Lai\n"
     ]
    }
   ],
   "source": [
    "# 多行字符串\n",
    "prompt = \"If you tell us who you are, we can personalize the messages you see.\"\n",
    "prompt += \"\\nWhat is your first name? \"\n",
    "\n",
    "name = input(prompt)\n",
    "print('Hello! ' + name.title())"
   ]
  },
  {
   "cell_type": "code",
   "execution_count": 73,
   "metadata": {},
   "outputs": [
    {
     "name": "stdout",
     "output_type": "stream",
     "text": [
      "\n",
      "You should grow older\n"
     ]
    }
   ],
   "source": [
    "# rollercoaster.py\n",
    "# input输入的是字符串，如果是数值的话需要转换为整型\n",
    "height = input('How tall are you, in inches? ')\n",
    "height = int(height)\n",
    "\n",
    "if height >= 36:\n",
    "    print(\"\\nYou're tall enough to ride!\")\n",
    "else:\n",
    "    print(\"\\nYou should grow older\")"
   ]
  },
  {
   "cell_type": "markdown",
   "metadata": {},
   "source": [
    "## 求模运算"
   ]
  },
  {
   "cell_type": "code",
   "execution_count": 74,
   "metadata": {},
   "outputs": [
    {
     "data": {
      "text/plain": [
       "1"
      ]
     },
     "execution_count": 74,
     "metadata": {},
     "output_type": "execute_result"
    }
   ],
   "source": [
    "4 % 3"
   ]
  },
  {
   "cell_type": "code",
   "execution_count": 75,
   "metadata": {},
   "outputs": [
    {
     "name": "stdout",
     "output_type": "stream",
     "text": [
      "\n",
      "The number 39 is odd.\n"
     ]
    }
   ],
   "source": [
    "number = input('Enter a number, and I will tell you if it is even or odd: ')\n",
    "number = int(number)\n",
    "if number % 2 == 0:\n",
    "    print('\\nThe number ' + str(number) + ' is even.')\n",
    "else:\n",
    "    print('\\nThe number ' + str(number) + ' is odd.')"
   ]
  },
  {
   "cell_type": "markdown",
   "metadata": {},
   "source": [
    "## while循环"
   ]
  },
  {
   "cell_type": "code",
   "execution_count": 77,
   "metadata": {},
   "outputs": [
    {
     "name": "stdout",
     "output_type": "stream",
     "text": [
      "hello\n",
      "eixt\n"
     ]
    }
   ],
   "source": [
    "prompt = \"Tell me something, and I will repeat it back to you.\"\n",
    "prompt += \"Enter exit to end the program. \"\n",
    "message = \"\"\n",
    "while message != 'exit':\n",
    "    message = input(prompt)\n",
    "    if message != 'exit':\n",
    "        print(message)"
   ]
  },
  {
   "cell_type": "markdown",
   "metadata": {},
   "source": [
    "* ### 使用标志"
   ]
  },
  {
   "cell_type": "code",
   "execution_count": 1,
   "metadata": {},
   "outputs": [
    {
     "name": "stdout",
     "output_type": "stream",
     "text": [
      "jjj\n",
      "sdf\n"
     ]
    }
   ],
   "source": [
    "prompt = \"Tell me something, and I will repeat it back to you.\"\n",
    "prompt += \"Enter exit to end the program. \"\n",
    "active = True\n",
    "while active:\n",
    "    message = input(prompt)\n",
    "    if message == 'exit':\n",
    "        active = False\n",
    "    else:\n",
    "        print(message)"
   ]
  },
  {
   "cell_type": "markdown",
   "metadata": {},
   "source": [
    "## break 和 continue"
   ]
  },
  {
   "cell_type": "code",
   "execution_count": 1,
   "metadata": {},
   "outputs": [
    {
     "name": "stdout",
     "output_type": "stream",
     "text": [
      "f\n",
      "g\n"
     ]
    }
   ],
   "source": [
    "prompt = \"Tell me something, and I will repeat it back to you.\"\n",
    "prompt += \"Enter exit to end the program. \"\n",
    "while True:\n",
    "    message = input(prompt)\n",
    "    if message == 'exit':\n",
    "        break\n",
    "    print(message)"
   ]
  },
  {
   "cell_type": "code",
   "execution_count": 2,
   "metadata": {},
   "outputs": [
    {
     "name": "stdout",
     "output_type": "stream",
     "text": [
      "1\n",
      "3\n",
      "5\n",
      "7\n",
      "9\n"
     ]
    }
   ],
   "source": [
    "# 输出奇数\n",
    "# counting.py\n",
    "current_number = 0\n",
    "while current_number < 10:\n",
    "    current_number += 1\n",
    "    if current_number % 2 == 0:\n",
    "        continue\n",
    "    print(current_number)"
   ]
  },
  {
   "cell_type": "markdown",
   "metadata": {},
   "source": [
    "## 使用while循环处理列表和字典"
   ]
  },
  {
   "cell_type": "markdown",
   "metadata": {},
   "source": [
    "### 在列表之间移动元素"
   ]
  },
  {
   "cell_type": "code",
   "execution_count": 3,
   "metadata": {},
   "outputs": [
    {
     "name": "stdout",
     "output_type": "stream",
     "text": [
      "Verifying user: Candace\n",
      "Verifying user: Brian\n",
      "Verifying user: Alice\n",
      "\n",
      "The following users have been confirmed:\n",
      "Candace\n",
      "Brian\n",
      "Alice\n"
     ]
    }
   ],
   "source": [
    "# confirmed_users.py\n",
    "# 首先创建一个待验证用户列表\n",
    "#  和一个用于存储已验证用户的空列表\n",
    "unconfirmed_users = ['alice', 'brian', 'candace']\n",
    "confirmed_users = []\n",
    "\n",
    "while unconfirmed_users:\n",
    "    current_user = unconfirmed_users.pop()\n",
    "    print(\"Verifying user: \" + current_user.title())\n",
    "    confirmed_users.append(current_user)\n",
    "\n",
    "print('\\nThe following users have been confirmed:')\n",
    "for confirmed_user in confirmed_users:\n",
    "    print(confirmed_user.title())"
   ]
  },
  {
   "cell_type": "markdown",
   "metadata": {},
   "source": [
    "### 删除包含特定值的列表元素"
   ]
  },
  {
   "cell_type": "code",
   "execution_count": 5,
   "metadata": {},
   "outputs": [
    {
     "name": "stdout",
     "output_type": "stream",
     "text": [
      "['dog', 'cat', 'bird', 'goldfish', 'cat', 'rabbit', 'cat']\n",
      "['dog', 'bird', 'goldfish', 'rabbit']\n"
     ]
    }
   ],
   "source": [
    "# pets.py\n",
    "pets = ['dog', 'cat', 'bird', 'goldfish', 'cat', 'rabbit', 'cat']\n",
    "print(pets)\n",
    "\n",
    "while 'cat' in pets:\n",
    "    pets.remove('cat')\n",
    "\n",
    "print(pets)"
   ]
  },
  {
   "cell_type": "markdown",
   "metadata": {},
   "source": [
    "### 使用用户输入来填充字典"
   ]
  },
  {
   "cell_type": "code",
   "execution_count": 6,
   "metadata": {},
   "outputs": [
    {
     "name": "stdout",
     "output_type": "stream",
     "text": [
      "\n",
      "--- Poll Results ---\n",
      "Ben want to eat bread.\n",
      "Ally want to eat rice.\n"
     ]
    }
   ],
   "source": [
    "# mountain_poll.py\n",
    "responses = {}\n",
    "\n",
    "# 设置一个标志，指出调查是否继续\n",
    "polling_active = True\n",
    "\n",
    "# 调查循环\n",
    "while polling_active:\n",
    "    # 提醒输入\n",
    "    name = input(\"What's your name? \")\n",
    "    food = input(\"What do you want to eat? \")\n",
    "    \n",
    "    # 将答案存储在字典中\n",
    "    responses[name] = food\n",
    "    \n",
    "    # 询问调查是否继续\n",
    "    repeat = input(\"Would you like to let another person respond? (Y/N) \")\n",
    "    if repeat == 'N':\n",
    "        polling_active = False\n",
    "\n",
    "# 调查结束\n",
    "print('\\n--- Poll Results ---')\n",
    "for name, food in responses.items():\n",
    "    print(name.title() + ' want to eat ' + food + '.')"
   ]
  },
  {
   "cell_type": "markdown",
   "metadata": {},
   "source": [
    "## 练习"
   ]
  },
  {
   "cell_type": "code",
   "execution_count": 9,
   "metadata": {},
   "outputs": [
    {
     "name": "stdout",
     "output_type": "stream",
     "text": [
      "Sorry, we don't have pastrami.\n",
      "\n",
      "Making England Sandwich...\n",
      "...\n",
      "Finish making England Sandwich!\n",
      "\n",
      "Making Egg Sandwich...\n",
      "...\n",
      "Finish making Egg Sandwich!\n",
      "\n",
      "Making Cheese Sandwich...\n",
      "...\n",
      "Finish making Cheese Sandwich!\n",
      "\n",
      "The following sandwiches have been made.\n",
      "England Sandwich\n",
      "Egg Sandwich\n",
      "Cheese Sandwich\n"
     ]
    }
   ],
   "source": [
    "# sandwich_orders.py\n",
    "sandwich_orders = ['pastrami sandwich', 'cheese sandwich', 'pastrami sandwich', 'egg sandwich', 'pastrami sandwich', 'england sandwich']\n",
    "finished_sandwiches = []\n",
    "\n",
    "print(\"Sorry, we don't have pastrami.\")\n",
    "while 'pastrami sandwich' in sandwich_orders:\n",
    "    sandwich_orders.remove('pastrami sandwich')\n",
    "\n",
    "while sandwich_orders:\n",
    "    current_sandwich = sandwich_orders.pop()\n",
    "    print('\\nMaking ' + current_sandwich.title() + '...')\n",
    "    print('...')\n",
    "    print('Finish making ' + current_sandwich.title() + '!')\n",
    "    \n",
    "    finished_sandwiches.append(current_sandwich)\n",
    "\n",
    "print('\\nThe following sandwiches have been made.')\n",
    "for finished_sandwich in finished_sandwiches:\n",
    "    print(finished_sandwich.title())"
   ]
  }
 ],
 "metadata": {
  "kernelspec": {
   "display_name": "Python 3",
   "language": "python",
   "name": "python3"
  },
  "language_info": {
   "codemirror_mode": {
    "name": "ipython",
    "version": 3
   },
   "file_extension": ".py",
   "mimetype": "text/x-python",
   "name": "python",
   "nbconvert_exporter": "python",
   "pygments_lexer": "ipython3",
   "version": "3.6.4"
  }
 },
 "nbformat": 4,
 "nbformat_minor": 2
}
