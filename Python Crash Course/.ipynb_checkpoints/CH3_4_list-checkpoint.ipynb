{
 "cells": [
  {
   "cell_type": "markdown",
   "metadata": {},
   "source": [
    "## 三、列表"
   ]
  },
  {
   "cell_type": "markdown",
   "metadata": {},
   "source": [
    "列表末尾添加元素"
   ]
  },
  {
   "cell_type": "code",
   "execution_count": 6,
   "metadata": {},
   "outputs": [
    {
     "name": "stdout",
     "output_type": "stream",
     "text": [
      "['honda', 'yamaha', 'suzuki']\n",
      "['honda', 'yamaha', 'suzuki', 'ducati']\n"
     ]
    }
   ],
   "source": [
    "motorcycle = ['honda', 'yamaha', 'suzuki']\n",
    "print(motorcycle)\n",
    "motorcycle.append('ducati')\n",
    "print(motorcycle)"
   ]
  },
  {
   "cell_type": "markdown",
   "metadata": {},
   "source": [
    "在列表中添加元素"
   ]
  },
  {
   "cell_type": "code",
   "execution_count": 8,
   "metadata": {},
   "outputs": [
    {
     "name": "stdout",
     "output_type": "stream",
     "text": [
      "['honda', 'yamaha', 'suzuki']\n",
      "['honda', 'ducati', 'yamaha', 'suzuki']\n"
     ]
    }
   ],
   "source": [
    "motorcycle = ['honda', 'yamaha', 'suzuki']\n",
    "print(motorcycle)\n",
    "motorcycle.insert(1, 'ducati')\n",
    "print(motorcycle)"
   ]
  },
  {
   "cell_type": "markdown",
   "metadata": {},
   "source": [
    "##### 删除元素"
   ]
  },
  {
   "cell_type": "markdown",
   "metadata": {},
   "source": [
    "* 用del删除"
   ]
  },
  {
   "cell_type": "code",
   "execution_count": 10,
   "metadata": {},
   "outputs": [
    {
     "name": "stdout",
     "output_type": "stream",
     "text": [
      "['honda', 'yamaha', 'suzuki']\n",
      "['yamaha', 'suzuki']\n"
     ]
    }
   ],
   "source": [
    "motorcycle = ['honda', 'yamaha', 'suzuki']\n",
    "print(motorcycle)\n",
    "del motorcycle[0]\n",
    "print(motorcycle)\n",
    "\n",
    "# del 需要知道索引"
   ]
  },
  {
   "cell_type": "markdown",
   "metadata": {},
   "source": [
    "* 用pop删除"
   ]
  },
  {
   "cell_type": "code",
   "execution_count": 14,
   "metadata": {},
   "outputs": [
    {
     "name": "stdout",
     "output_type": "stream",
     "text": [
      "['honda', 'yamaha', 'suzuki']\n",
      "['honda', 'yamaha']\n",
      "suzuki\n"
     ]
    }
   ],
   "source": [
    "motorcycle = ['honda', 'yamaha', 'suzuki']\n",
    "print(motorcycle)\n",
    "pop_motorcycle = motorcycle.pop()\n",
    "print(motorcycle)\n",
    "print(pop_motorcycle)\n",
    "\n",
    "# pop()弹出了列表最后的元素，并储存到了变量中"
   ]
  },
  {
   "cell_type": "code",
   "execution_count": 23,
   "metadata": {},
   "outputs": [
    {
     "name": "stdout",
     "output_type": "stream",
     "text": [
      "['honda', 'yamaha', 'suzuki']\n",
      "My first motorcycle is honda\n"
     ]
    }
   ],
   "source": [
    "# 用pop弹出任何位置处的元素\n",
    "motorcycle = ['honda', 'yamaha', 'suzuki']\n",
    "print(motorcycle)\n",
    "first_one = motorcycle.pop(0)\n",
    "print(\"My first motorcycle is \" + first_one)\n",
    "# 不要忘了此时列表中已经没有了 'honda'"
   ]
  },
  {
   "cell_type": "markdown",
   "metadata": {},
   "source": [
    "* 根据值删除元素"
   ]
  },
  {
   "cell_type": "code",
   "execution_count": 27,
   "metadata": {},
   "outputs": [
    {
     "name": "stdout",
     "output_type": "stream",
     "text": [
      "['honda', 'yamaha', 'suzuki', 'yamaha']\n",
      "['honda', 'suzuki', 'yamaha']\n",
      "注意到，remove只删除了出现的第一个值\n"
     ]
    }
   ],
   "source": [
    "motorcycle = ['honda', 'yamaha', 'suzuki', 'yamaha']\n",
    "print(motorcycle)\n",
    "motorcycle.remove('yamaha')\n",
    "print(motorcycle)\n",
    "print('注意到，remove只删除了出现的第一个值')"
   ]
  },
  {
   "cell_type": "markdown",
   "metadata": {},
   "source": [
    "##### 练习"
   ]
  },
  {
   "cell_type": "code",
   "execution_count": 40,
   "metadata": {},
   "outputs": [
    {
     "name": "stdout",
     "output_type": "stream",
     "text": [
      "I will invite dad and mom and miao\n",
      "But miao cannot come.\n",
      "so I will invite miaomiao instead.\n",
      "I will invite dad and mom and miaomiao\n",
      "I find a bigger table, so I will invite more people to come.\n",
      "I invite Gakki to come.\n",
      "However, I must choose two of them.\n",
      "xiaojiejie , I am sorry\n",
      "miaomiao , I am sorry\n",
      "mom , I am sorry\n",
      "D.va , I am sorry\n",
      "Gakki u are so lucky\n",
      "dad u are so lucky\n",
      "[]\n"
     ]
    }
   ],
   "source": [
    "dinnermate = ['dad', 'mom', 'miao']\n",
    "print('I will invite ' + dinnermate[0] + ' and ' + dinnermate[1] + ' and ' + dinnermate[2])\n",
    "print('But ' + dinnermate[2] + ' cannot come.')\n",
    "print('so I will invite miaomiao instead.')\n",
    "dinnermate[2] = 'miaomiao'\n",
    "print('I will invite ' + dinnermate[0] + ' and ' + dinnermate[1] + ' and ' + dinnermate[2])\n",
    "print('I find a bigger table, so I will invite more people to come.')\n",
    "print('I invite Gakki to come.')\n",
    "dinnermate.insert(0, 'Gakki')\n",
    "dinnermate.insert(2, 'D.va')\n",
    "dinnermate.append('xiaojiejie')\n",
    "print('However, I must choose two of them.')\n",
    "print(dinnermate.pop() + ' , ' + 'I am sorry')\n",
    "print(dinnermate.pop() + ' , ' + 'I am sorry')\n",
    "print(dinnermate.pop() + ' , ' + 'I am sorry')\n",
    "print(dinnermate.pop() + ' , ' + 'I am sorry')\n",
    "print(dinnermate[0] + ' u are so lucky')\n",
    "print(dinnermate[1] + ' u are so lucky')\n",
    "del dinnermate[0]\n",
    "del dinnermate[0]\n",
    "print(dinnermate)"
   ]
  },
  {
   "cell_type": "markdown",
   "metadata": {},
   "source": [
    "### 组织列表"
   ]
  },
  {
   "cell_type": "markdown",
   "metadata": {},
   "source": [
    "##### 对列表永久性排序"
   ]
  },
  {
   "cell_type": "code",
   "execution_count": 43,
   "metadata": {},
   "outputs": [
    {
     "name": "stdout",
     "output_type": "stream",
     "text": [
      "['audi', 'bmw', 'nissan', 'toyota']\n",
      "['toyota', 'nissan', 'bmw', 'audi']\n"
     ]
    }
   ],
   "source": [
    "cars = ['bmw', 'audi', 'nissan', 'toyota']\n",
    "cars.sort()    # 按字母顺序排序\n",
    "print(cars)\n",
    "cars.sort(reverse = True)    # 反向排序\n",
    "print(cars)"
   ]
  },
  {
   "cell_type": "markdown",
   "metadata": {},
   "source": [
    "##### 对列表临时排序"
   ]
  },
  {
   "cell_type": "code",
   "execution_count": 47,
   "metadata": {},
   "outputs": [
    {
     "name": "stdout",
     "output_type": "stream",
     "text": [
      "This is the origin list:\n",
      "['bmw', 'toyota', 'audi', 'nissan']\n",
      "This is the sorted list:\n",
      "['audi', 'bmw', 'nissan', 'toyota']\n",
      "This is the origin list again:\n",
      "['bmw', 'toyota', 'audi', 'nissan']\n"
     ]
    }
   ],
   "source": [
    "cars = ['bmw','toyota', 'audi', 'nissan']\n",
    "print('This is the origin list:')\n",
    "print(cars)\n",
    "print('This is the sorted list:')\n",
    "print(sorted(cars))\n",
    "print('This is the origin list again:')\n",
    "print(cars)"
   ]
  },
  {
   "cell_type": "markdown",
   "metadata": {},
   "source": [
    "##### 倒着打印列表"
   ]
  },
  {
   "cell_type": "code",
   "execution_count": 48,
   "metadata": {},
   "outputs": [
    {
     "name": "stdout",
     "output_type": "stream",
     "text": [
      "['nissan', 'audi', 'toyota', 'bmw']\n"
     ]
    }
   ],
   "source": [
    "cars = ['bmw','toyota', 'audi', 'nissan']\n",
    "cars.reverse()\n",
    "print(cars)"
   ]
  },
  {
   "cell_type": "markdown",
   "metadata": {},
   "source": [
    "##### 确定列表长度"
   ]
  },
  {
   "cell_type": "code",
   "execution_count": 49,
   "metadata": {},
   "outputs": [
    {
     "data": {
      "text/plain": [
       "4"
      ]
     },
     "execution_count": 49,
     "metadata": {},
     "output_type": "execute_result"
    }
   ],
   "source": [
    "cars = ['bmw','toyota', 'audi', 'nissan']\n",
    "len(cars)"
   ]
  },
  {
   "cell_type": "markdown",
   "metadata": {},
   "source": [
    "##### 练习"
   ]
  },
  {
   "cell_type": "code",
   "execution_count": 52,
   "metadata": {},
   "outputs": [
    {
     "name": "stdout",
     "output_type": "stream",
     "text": [
      "['japan', 'america', 'england', 'canada', 'france']\n",
      "['america', 'canada', 'england', 'france', 'japan']\n",
      "['japan', 'america', 'england', 'canada', 'france']\n",
      "['japan', 'france', 'england', 'canada', 'america']\n",
      "['japan', 'america', 'england', 'canada', 'france']\n",
      "['france', 'canada', 'england', 'america', 'japan']\n",
      "['japan', 'america', 'england', 'canada', 'france']\n",
      "['america', 'canada', 'england', 'france', 'japan']\n",
      "['japan', 'france', 'england', 'canada', 'america']\n"
     ]
    }
   ],
   "source": [
    "place = ['japan', 'america', 'england', 'canada', 'france']\n",
    "print(place)    # 打印列表\n",
    "print(sorted(place))    # 按字母顺序打印列表\n",
    "print(place)    # 核实列表为原顺序\n",
    "print(sorted(place, reverse = True))    # 按字母反序打印列表\n",
    "print(place)\n",
    "place.reverse()\n",
    "print(place)\n",
    "place.reverse()\n",
    "print(place)\n",
    "place.sort()\n",
    "print(place)\n",
    "place.sort(reverse = True)\n",
    "print(place)"
   ]
  },
  {
   "cell_type": "markdown",
   "metadata": {},
   "source": [
    "## 四、操作列表"
   ]
  },
  {
   "cell_type": "markdown",
   "metadata": {},
   "source": [
    "##### 遍历列表"
   ]
  },
  {
   "cell_type": "code",
   "execution_count": 57,
   "metadata": {},
   "outputs": [
    {
     "name": "stdout",
     "output_type": "stream",
     "text": [
      "Alice, that was a great trick!\n",
      "I can't wait your next show, Alice\n",
      "David, that was a great trick!\n",
      "I can't wait your next show, David\n",
      "Carolina, that was a great trick!\n",
      "I can't wait your next show, Carolina\n",
      "Thank you everyone\n"
     ]
    }
   ],
   "source": [
    "magicians = ['alice', 'david', 'carolina']\n",
    "for magician in magicians:\n",
    "    print(magician.title() + \", that was a great trick!\")\n",
    "    print(\"I can't wait your next show, \" + magician.title())\n",
    "print(\"Thank you everyone\")"
   ]
  },
  {
   "cell_type": "markdown",
   "metadata": {},
   "source": [
    "##### 练习"
   ]
  },
  {
   "cell_type": "code",
   "execution_count": 58,
   "metadata": {},
   "outputs": [
    {
     "name": "stdout",
     "output_type": "stream",
     "text": [
      "I like pork pizza!\n",
      "I like beef pizza!\n",
      "I like vegetable pizza!\n",
      "I like pizaa!\n"
     ]
    }
   ],
   "source": [
    "pizza = ['pork', 'beef', 'vegetable']\n",
    "for one in pizza:\n",
    "    print('I like ' + one + ' pizza!')\n",
    "print('I like pizaa!')"
   ]
  },
  {
   "cell_type": "markdown",
   "metadata": {},
   "source": [
    "##### 创建数值列表"
   ]
  },
  {
   "cell_type": "code",
   "execution_count": 62,
   "metadata": {},
   "outputs": [
    {
     "name": "stdout",
     "output_type": "stream",
     "text": [
      "[1, 2, 3, 4, 5]\n",
      "[1, 3, 5, 7, 9]\n"
     ]
    }
   ],
   "source": [
    "# 创建列表\n",
    "number = list(range(1, 6))\n",
    "print(number)\n",
    "# 创建奇数列表\n",
    "odd_number = list(range(1, 11, 2))\n",
    "print(odd_number)"
   ]
  },
  {
   "cell_type": "code",
   "execution_count": 63,
   "metadata": {},
   "outputs": [
    {
     "data": {
      "text/plain": [
       "[1, 4, 9, 16, 25, 36, 49, 64, 81, 100]"
      ]
     },
     "execution_count": 63,
     "metadata": {},
     "output_type": "execute_result"
    }
   ],
   "source": [
    "# 创建平方数列表\n",
    "squares = []\n",
    "for values in range(1, 11):\n",
    "    square = values ** 2\n",
    "    squares.append(square)\n",
    "squares"
   ]
  },
  {
   "cell_type": "markdown",
   "metadata": {},
   "source": [
    "##### 对数值列表进行简单统计"
   ]
  },
  {
   "cell_type": "code",
   "execution_count": 64,
   "metadata": {},
   "outputs": [
    {
     "data": {
      "text/plain": [
       "(0, 9, 45)"
      ]
     },
     "execution_count": 64,
     "metadata": {},
     "output_type": "execute_result"
    }
   ],
   "source": [
    "digits = list(range(0, 10))\n",
    "min(digits), max(digits), sum(digits)"
   ]
  },
  {
   "cell_type": "markdown",
   "metadata": {},
   "source": [
    "##### 列表解析"
   ]
  },
  {
   "cell_type": "code",
   "execution_count": 66,
   "metadata": {},
   "outputs": [
    {
     "data": {
      "text/plain": [
       "[1, 4, 9, 16, 25, 36, 49, 64, 81, 100]"
      ]
     },
     "execution_count": 66,
     "metadata": {},
     "output_type": "execute_result"
    }
   ],
   "source": [
    "squares = [value**2 for value in range(1, 11)]\n",
    "squares"
   ]
  },
  {
   "cell_type": "markdown",
   "metadata": {},
   "source": [
    "##### 练习"
   ]
  },
  {
   "cell_type": "code",
   "execution_count": 67,
   "metadata": {},
   "outputs": [
    {
     "name": "stdout",
     "output_type": "stream",
     "text": [
      "1\n",
      "2\n",
      "3\n",
      "4\n",
      "5\n",
      "6\n",
      "7\n",
      "8\n",
      "9\n",
      "10\n",
      "11\n",
      "12\n",
      "13\n",
      "14\n",
      "15\n",
      "16\n",
      "17\n",
      "18\n",
      "19\n",
      "20\n"
     ]
    }
   ],
   "source": [
    "for value in range(1, 21):\n",
    "    print(value)"
   ]
  },
  {
   "cell_type": "code",
   "execution_count": 74,
   "metadata": {},
   "outputs": [
    {
     "name": "stdout",
     "output_type": "stream",
     "text": [
      "1 1000000\n",
      "0.00916910171508789\n"
     ]
    }
   ],
   "source": [
    "import time\n",
    "numbers = list(range(1,1000001))\n",
    "print(min(numbers), max(numbers))\n",
    "t1 = time.time()\n",
    "num_sum = sum(numbers)\n",
    "t2 = time.time()\n",
    "print(t2 - t1)"
   ]
  },
  {
   "cell_type": "code",
   "execution_count": 75,
   "metadata": {},
   "outputs": [
    {
     "name": "stdout",
     "output_type": "stream",
     "text": [
      "1\n",
      "3\n",
      "5\n",
      "7\n",
      "9\n",
      "11\n",
      "13\n",
      "15\n",
      "17\n",
      "19\n"
     ]
    }
   ],
   "source": [
    "even_num = list(range(1, 21, 2))\n",
    "for num in even_num:\n",
    "    print(num)"
   ]
  },
  {
   "cell_type": "code",
   "execution_count": 1,
   "metadata": {},
   "outputs": [
    {
     "name": "stdout",
     "output_type": "stream",
     "text": [
      "[1, 8, 27, 64, 125, 216, 343, 512, 729, 1000]\n"
     ]
    }
   ],
   "source": [
    "qubic = [value**3 for value in range(1, 11)]\n",
    "print(qubic)"
   ]
  },
  {
   "cell_type": "markdown",
   "metadata": {},
   "source": [
    "##### 切片"
   ]
  },
  {
   "cell_type": "code",
   "execution_count": 5,
   "metadata": {},
   "outputs": [
    {
     "name": "stdout",
     "output_type": "stream",
     "text": [
      "['charles', 'alice', 'eli']\n",
      "['alice', 'eli', 'ella']\n",
      "['charles', 'alice', 'eli', 'ella']\n",
      "['eli', 'ella', 'michael']\n",
      "['ella', 'michael']\n",
      "There are the first three players on my team:\n",
      "charles\n",
      "alice\n",
      "eli\n"
     ]
    }
   ],
   "source": [
    "players = ['charles', 'alice', 'eli', 'ella', 'michael']\n",
    "print(players[0:3])\n",
    "print(players[1:4])\n",
    "print(players[:4])    # 没有指定第一个索引，则从首位开始\n",
    "print(players[2:])    # 没有指定第二个索引，则到结尾结束\n",
    "print(players[-2:])   # 可输入负数索引\n",
    "print('There are the first three players on my team:')\n",
    "for player in players[:3]:\n",
    "    print(player)"
   ]
  },
  {
   "cell_type": "markdown",
   "metadata": {},
   "source": [
    "##### 复制列表"
   ]
  },
  {
   "cell_type": "code",
   "execution_count": 7,
   "metadata": {},
   "outputs": [
    {
     "name": "stdout",
     "output_type": "stream",
     "text": [
      "['pizza', 'egg', 'cake', 'sausage']\n",
      "['pizza', 'egg', 'cake', 'hotdog']\n"
     ]
    }
   ],
   "source": [
    "my_foods = ['pizza', 'egg', 'cake']\n",
    "friend_foods = my_foods[:]\n",
    "\n",
    "my_foods.append('sausage')\n",
    "friend_foods.append('hotdog')\n",
    "\n",
    "print(my_foods)\n",
    "print(friend_foods)"
   ]
  },
  {
   "cell_type": "markdown",
   "metadata": {},
   "source": [
    "##### 元组"
   ]
  },
  {
   "cell_type": "code",
   "execution_count": 10,
   "metadata": {},
   "outputs": [
    {
     "name": "stdout",
     "output_type": "stream",
     "text": [
      "200\n",
      "50\n",
      "200\n",
      "50\n",
      "modified dimensions:\n",
      "(400, 100)\n"
     ]
    }
   ],
   "source": [
    "# 元组是不可修改的\n",
    "dimensions = (200, 50)\n",
    "print(dimensions[0])\n",
    "print(dimensions[1])\n",
    "for dimension in dimensions:\n",
    "    print(dimension)\n",
    "dimensions = (400, 100)     # 元组不可修改，但是可以重新赋值\n",
    "print('modified dimensions:')\n",
    "print(dimensions)"
   ]
  }
 ],
 "metadata": {
  "kernelspec": {
   "display_name": "Python 3",
   "language": "python",
   "name": "python3"
  },
  "language_info": {
   "codemirror_mode": {
    "name": "ipython",
    "version": 3
   },
   "file_extension": ".py",
   "mimetype": "text/x-python",
   "name": "python",
   "nbconvert_exporter": "python",
   "pygments_lexer": "ipython3",
   "version": "3.6.4"
  }
 },
 "nbformat": 4,
 "nbformat_minor": 2
}
