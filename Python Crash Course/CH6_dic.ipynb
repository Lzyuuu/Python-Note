{
 "cells": [
  {
   "cell_type": "markdown",
   "metadata": {},
   "source": [
    "## 六、字典"
   ]
  },
  {
   "cell_type": "markdown",
   "metadata": {},
   "source": [
    "##### 一个简单的字典"
   ]
  },
  {
   "cell_type": "code",
   "execution_count": 22,
   "metadata": {},
   "outputs": [
    {
     "name": "stdout",
     "output_type": "stream",
     "text": [
      "green\n",
      "5\n",
      "{'color': 'green', 'points': 5, 'x_position': 0, 'y_position': 25}\n",
      "{'color': 'green', 'x_position': 0, 'y_position': 25}\n"
     ]
    }
   ],
   "source": [
    "alien_0 = {'color': 'green', 'points': 5}\n",
    "# 键--值对\n",
    "print(alien_0['color'])\n",
    "print(alien_0['points'])\n",
    "\n",
    "# 在字典中添加键值对\n",
    "alien_0['x_position'] = 0\n",
    "alien_0['y_position'] = 25\n",
    "print(alien_0)\n",
    "\n",
    "# 删除键值对\n",
    "del alien_0['points']\n",
    "print(alien_0)    # 删除的键值对永远消失了"
   ]
  },
  {
   "cell_type": "markdown",
   "metadata": {},
   "source": [
    "##### 修改字典中的值"
   ]
  },
  {
   "cell_type": "code",
   "execution_count": 21,
   "metadata": {},
   "outputs": [
    {
     "name": "stdout",
     "output_type": "stream",
     "text": [
      "Original x_position: 0\n",
      "New x_position: 3\n"
     ]
    }
   ],
   "source": [
    "alien_0 = {'x_position': 0, 'y_position': 25, 'speed': 'medium'}\n",
    "print('Original x_position: ' + str(alien_0['x_position']))\n",
    "\n",
    "alien_0['speed'] = 'fast'\n",
    "\n",
    "# 向右移动外星人\n",
    "# 据外星人当前速度决定将其移动多远\n",
    "if alien_0['speed'] == 'slow':\n",
    "    x_increment = 1\n",
    "elif alien_0['speed'] == 'medium':\n",
    "    x_increment = 2\n",
    "else:\n",
    "    # 这个外星人速度一定很快\n",
    "    x_increment = 3\n",
    "\n",
    "# 新位置等于老位置加上增量\n",
    "alien_0['x_position'] = alien_0['x_position'] + x_increment\n",
    "print('New x_position: ' + str(alien_0['x_position']))"
   ]
  },
  {
   "cell_type": "markdown",
   "metadata": {},
   "source": [
    "##### 由类似对象组成的字典"
   ]
  },
  {
   "cell_type": "code",
   "execution_count": 25,
   "metadata": {},
   "outputs": [
    {
     "name": "stdout",
     "output_type": "stream",
     "text": [
      "Sarah's favourite language is C\n"
     ]
    }
   ],
   "source": [
    "favourite_languages = {\n",
    "    'jen': 'python',\n",
    "    'sarah': 'c',\n",
    "    'edward': 'ruby',\n",
    "    'phil': 'python',\n",
    "    'ben': 'java',\n",
    "    }\n",
    "print(\"Sarah's favourite language is \" + favourite_languages['sarah'].title())"
   ]
  },
  {
   "cell_type": "markdown",
   "metadata": {},
   "source": [
    "##### 练习"
   ]
  },
  {
   "cell_type": "code",
   "execution_count": 26,
   "metadata": {},
   "outputs": [
    {
     "name": "stdout",
     "output_type": "stream",
     "text": [
      "{'name': 'Heng Tsui', 'age': 22, 'relationship': 'girlfriend', 'city': 'Harbin'}\n"
     ]
    }
   ],
   "source": [
    "message = {\n",
    "    'name': 'Heng Tsui',\n",
    "    'age': 22,\n",
    "    'relationship': 'girlfriend',\n",
    "    'city': 'Harbin',\n",
    "    }\n",
    "print(message)"
   ]
  },
  {
   "cell_type": "markdown",
   "metadata": {},
   "source": [
    "##### 遍历字典"
   ]
  },
  {
   "cell_type": "code",
   "execution_count": 33,
   "metadata": {},
   "outputs": [
    {
     "name": "stdout",
     "output_type": "stream",
     "text": [
      "\n",
      "key: username\n",
      "value: efermi\n",
      "\n",
      "key: first\n",
      "value: enrico\n",
      "\n",
      "key: last\n",
      "value: fermi\n"
     ]
    }
   ],
   "source": [
    "user_0 = {\n",
    "    'username': 'efermi',\n",
    "    'first': 'enrico',\n",
    "    'last': 'fermi',\n",
    "    }\n",
    "\n",
    "for key, value in user_0.items():\n",
    "    print('\\nkey: ' + key)\n",
    "    print('value: ' + value)"
   ]
  },
  {
   "cell_type": "code",
   "execution_count": 34,
   "metadata": {},
   "outputs": [
    {
     "name": "stdout",
     "output_type": "stream",
     "text": [
      "Jen's favourite language is Python\n",
      "Sarah's favourite language is C\n",
      "Edward's favourite language is Ruby\n",
      "Phil's favourite language is Python\n",
      "Ben's favourite language is Java\n"
     ]
    }
   ],
   "source": [
    "favourite_languages = {\n",
    "    'jen': 'python',\n",
    "    'sarah': 'c',\n",
    "    'edward': 'ruby',\n",
    "    'phil': 'python',\n",
    "    'ben': 'java',\n",
    "    }\n",
    "for name, language in favourite_languages.items():\n",
    "    print(name.title() + \"'s favourite language is \" + language.title())"
   ]
  },
  {
   "cell_type": "markdown",
   "metadata": {},
   "source": [
    "##### 遍历字典上的所有键"
   ]
  },
  {
   "cell_type": "code",
   "execution_count": 46,
   "metadata": {},
   "outputs": [
    {
     "name": "stdout",
     "output_type": "stream",
     "text": [
      "Jen\n",
      "Sarah\n",
      " Hi Sarah, I see your favourite language is C\n",
      "Edward\n",
      "Phil\n",
      " Hi Phil, I see your favourite language is Python\n",
      "Ben\n",
      "\n",
      "Erin, please take our poll!\n",
      "\n",
      "Ben's favourite language is Java\n",
      "Edward's favourite language is Ruby\n",
      "Jen's favourite language is Python\n",
      "Phil's favourite language is Python\n",
      "Sarah's favourite language is C\n"
     ]
    }
   ],
   "source": [
    "favourite_languages = {\n",
    "    'jen': 'python',\n",
    "    'sarah': 'c',\n",
    "    'edward': 'ruby',\n",
    "    'phil': 'python',\n",
    "    'ben': 'java',\n",
    "    }\n",
    "\n",
    "friends = ['sarah', 'phil']\n",
    "\n",
    "for name in favourite_languages.keys():\n",
    "    print(name.title())\n",
    "    if name in friends:\n",
    "        print(' Hi ' + name.title() + ', I see your favourite language is ' + favourite_languages[name].title())\n",
    "\n",
    "# 方法key()返回的是一个列表，其中包含字典的所有键\n",
    "if 'erin' not in favourite_languages.keys():\n",
    "    print(\"\\nErin, please take our poll!\\n\")\n",
    "\n",
    "# 按名字顺序遍历，一般是在for条件中执行\n",
    "for name in sorted(favourite_languages.keys()):\n",
    "    print(name.title() + \"'s favourite language is \" + favourite_languages[name].title())"
   ]
  },
  {
   "cell_type": "markdown",
   "metadata": {},
   "source": [
    "##### 遍历字典中的所有值"
   ]
  },
  {
   "cell_type": "code",
   "execution_count": 49,
   "metadata": {},
   "outputs": [
    {
     "name": "stdout",
     "output_type": "stream",
     "text": [
      "The following languages have been mentioned:\n",
      "Java\n",
      "Python\n",
      "Ruby\n",
      "C\n"
     ]
    }
   ],
   "source": [
    "favourite_languages = {\n",
    "    'jen': 'python',\n",
    "    'sarah': 'c',\n",
    "    'edward': 'ruby',\n",
    "    'phil': 'python',\n",
    "    'ben': 'java',\n",
    "    }\n",
    "\n",
    "print('The following languages have been mentioned:')\n",
    "for language in set(favourite_languages.values()):\n",
    "    print(language.title())"
   ]
  },
  {
   "cell_type": "markdown",
   "metadata": {},
   "source": [
    "##### 嵌套"
   ]
  },
  {
   "cell_type": "code",
   "execution_count": 51,
   "metadata": {},
   "outputs": [
    {
     "name": "stdout",
     "output_type": "stream",
     "text": [
      "{'color': 'green', 'points': 5}\n",
      "{'color': 'yellow', 'points': 10}\n",
      "{'color': 'red', 'points': 15}\n"
     ]
    }
   ],
   "source": [
    "alien_0 = {'color': 'green', 'points': 5}\n",
    "alien_1 = {'color': 'yellow', 'points': 10}\n",
    "alien_2 = {'color': 'red', 'points': 15}\n",
    "\n",
    "aliens = [alien_0, alien_1, alien_2]\n",
    "\n",
    "for alien in aliens:\n",
    "    print(alien)"
   ]
  },
  {
   "cell_type": "code",
   "execution_count": 55,
   "metadata": {},
   "outputs": [
    {
     "name": "stdout",
     "output_type": "stream",
     "text": [
      "{'color': 'yellow', 'points': 10, 'speed': 'medium'}\n",
      "{'color': 'yellow', 'points': 10, 'speed': 'medium'}\n",
      "{'color': 'yellow', 'points': 10, 'speed': 'medium'}\n",
      "{'color': 'green', 'points': 5, 'speed': 'slow'}\n",
      "{'color': 'green', 'points': 5, 'speed': 'slow'}\n",
      "...\n",
      "Total number of aliens: 30\n"
     ]
    }
   ],
   "source": [
    "# 创建一个用于存储外星人的空列表\n",
    "aliens = []\n",
    "\n",
    "# 创建50个绿色外星人\n",
    "for alien_number in range(30):\n",
    "    new_alien = {\n",
    "        'color': 'green',\n",
    "        'points': 5,\n",
    "        'speed': 'slow',\n",
    "        }\n",
    "    aliens.append(new_alien)\n",
    "\n",
    "for alien in aliens[:3]:\n",
    "    if alien['color'] == 'green':\n",
    "        alien['color'] = 'yellow'\n",
    "        alien['points'] = 10\n",
    "        alien['speed'] = 'medium'\n",
    "\n",
    "# 打印前五个\n",
    "for alien in aliens[:5]:\n",
    "    print(alien)\n",
    "\n",
    "print('...')\n",
    "\n",
    "# 显示创建外星人的数目\n",
    "print(\"Total number of aliens: \" + str(len(aliens)))"
   ]
  },
  {
   "cell_type": "markdown",
   "metadata": {},
   "source": [
    "##### 在字典中储存列表"
   ]
  },
  {
   "cell_type": "code",
   "execution_count": 56,
   "metadata": {},
   "outputs": [
    {
     "name": "stdout",
     "output_type": "stream",
     "text": [
      "You order a thick-crust pizza with the following toppings:\n",
      "mushroom\n",
      "extra cheese\n"
     ]
    }
   ],
   "source": [
    "# pizza.py\n",
    "# 存储所点比萨的信息\n",
    "pizza = {\n",
    "    'crust': 'thick',\n",
    "    'toppings': ['mushroom', 'extra cheese'],\n",
    "    }\n",
    "# 概述所点比萨\n",
    "print(\"You order a \" + pizza['crust'] + '-crust pizza with the following toppings:')\n",
    "for topping in pizza['toppings']:\n",
    "    print(topping)"
   ]
  },
  {
   "cell_type": "code",
   "execution_count": 59,
   "metadata": {},
   "outputs": [
    {
     "name": "stdout",
     "output_type": "stream",
     "text": [
      "\n",
      "Jen's favourite language are:\n",
      "Python\n",
      "Ruby\n",
      "\n",
      "Sarah's favourite language is:\n",
      "C\n",
      "\n",
      "Edward's favourite language are:\n",
      "Ruby\n",
      "Go\n",
      "\n",
      "Phil's favourite language are:\n",
      "Python\n",
      "Haskell\n"
     ]
    }
   ],
   "source": [
    "# favourite_languages.py\n",
    "favourite_languages = {\n",
    "    'jen': ['python', 'ruby'],\n",
    "    'sarah': ['c'],\n",
    "    'edward': ['ruby', 'go'],\n",
    "    'phil': ['python', 'haskell'],\n",
    "    }\n",
    "for name, languages in favourite_languages.items():\n",
    "    if len(languages) != 1:\n",
    "        print('\\n' + name.title() + \"'s favourite language are:\")\n",
    "    else:\n",
    "        print('\\n' + name.title() + \"'s favourite language is:\")\n",
    "    for language in languages:\n",
    "        print(language.title())"
   ]
  },
  {
   "cell_type": "markdown",
   "metadata": {},
   "source": [
    "##### 在字典中储存字典"
   ]
  },
  {
   "cell_type": "code",
   "execution_count": 65,
   "metadata": {},
   "outputs": [
    {
     "name": "stdout",
     "output_type": "stream",
     "text": [
      "\n",
      "Username: Aeinstein\n",
      "\tFull name: Albert Einstein\n",
      "\tLocation: Princeton\n",
      "\n",
      "Username: Mcurie\n",
      "\tFull name: Marie Curie\n",
      "\tLocation: Paris\n"
     ]
    }
   ],
   "source": [
    "# many_users.py\n",
    "users = {\n",
    "    'aeinstein':{\n",
    "        'first': 'albert',\n",
    "        'last': 'einstein',\n",
    "        'location': 'princeton',\n",
    "        },\n",
    "    'mcurie':{\n",
    "        'first': 'marie',\n",
    "        'last': 'curie',\n",
    "        'location': 'paris'\n",
    "        }\n",
    "    }\n",
    "\n",
    "for username, user_info in users.items():\n",
    "    print('\\nUsername: ' + username.title())\n",
    "    print('\\tFull name: ' + user_info['first'].title() + ' ' + user_info['last'].title())\n",
    "    print('\\tLocation: ' + user_info['location'].title())"
   ]
  }
 ],
 "metadata": {
  "kernelspec": {
   "display_name": "Python 3",
   "language": "python",
   "name": "python3"
  },
  "language_info": {
   "codemirror_mode": {
    "name": "ipython",
    "version": 3
   },
   "file_extension": ".py",
   "mimetype": "text/x-python",
   "name": "python",
   "nbconvert_exporter": "python",
   "pygments_lexer": "ipython3",
   "version": "3.6.4"
  }
 },
 "nbformat": 4,
 "nbformat_minor": 2
}
