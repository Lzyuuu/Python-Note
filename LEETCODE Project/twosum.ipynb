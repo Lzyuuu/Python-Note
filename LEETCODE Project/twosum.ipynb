{
 "cells": [
  {
   "cell_type": "markdown",
   "metadata": {},
   "source": [
    "## 两数之和\n",
    "给定一个整数数列，找出其中和为特定值的那两个数。\n",
    "\n",
    "你可以假设每个输入都只会有一种答案，同样的元素不能被重用。"
   ]
  },
  {
   "cell_type": "markdown",
   "metadata": {},
   "source": [
    "### 实例\n",
    "给定 nums = [2, 7, 11, 15], target = 9\n",
    "\n",
    "因为 nums[0] + nums[1] = 2 + 7 = 9\n",
    "所以返回 [0, 1]"
   ]
  },
  {
   "cell_type": "code",
   "execution_count": 2,
   "metadata": {},
   "outputs": [
    {
     "name": "stdout",
     "output_type": "stream",
     "text": [
      "[1, 2]\n"
     ]
    }
   ],
   "source": [
    "class Solution:\n",
    "    def twoSum(self, nums, target):\n",
    "        \"\"\"\n",
    "        :type nums: List[int]\n",
    "        :type target: int\n",
    "        :rtype: List[int]\n",
    "        \"\"\"\n",
    "        exit_flag = False\n",
    "        for m in range(len(nums)):\n",
    "            for n in range(m + 1, len(nums)):\n",
    "                if nums[m] + nums[n] == target:\n",
    "                    print('[%d, %d]' % (m, n))\n",
    "                    exit_flag = True\n",
    "                    break\n",
    "            if exit_flag:\n",
    "                break\n",
    "        else:\n",
    "            print('ERROR')\n",
    "Solution().twoSum([3, 4, 2], 6)"
   ]
  },
  {
   "cell_type": "code",
   "execution_count": 1,
   "metadata": {},
   "outputs": [
    {
     "data": {
      "text/plain": [
       "[1, 2]"
      ]
     },
     "execution_count": 1,
     "metadata": {},
     "output_type": "execute_result"
    }
   ],
   "source": [
    "class Solution:\n",
    "    def twoSum(self, nums, target):\n",
    "        \"\"\"\n",
    "        :type nums: List[int]\n",
    "        :type target: int\n",
    "        :rtype: List[int]\n",
    "        \"\"\"\n",
    "        for m in range(len(nums)):\n",
    "            for n in range(m + 1, len(nums)):\n",
    "                if nums[m] + nums[n] == target:\n",
    "                    return [m, n]\n",
    "        else:\n",
    "            print('ERROR')\n",
    "Solution().twoSum([3, 4, 2], 6)"
   ]
  }
 ],
 "metadata": {
  "kernelspec": {
   "display_name": "Python 3",
   "language": "python",
   "name": "python3"
  },
  "language_info": {
   "codemirror_mode": {
    "name": "ipython",
    "version": 3
   },
   "file_extension": ".py",
   "mimetype": "text/x-python",
   "name": "python",
   "nbconvert_exporter": "python",
   "pygments_lexer": "ipython3",
   "version": "3.6.4"
  }
 },
 "nbformat": 4,
 "nbformat_minor": 2
}
