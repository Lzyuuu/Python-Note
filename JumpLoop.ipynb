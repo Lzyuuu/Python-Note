{
 "cells": [
  {
   "cell_type": "markdown",
   "metadata": {},
   "source": [
    "# Python中跳出多重循环"
   ]
  },
  {
   "cell_type": "code",
   "execution_count": 1,
   "metadata": {},
   "outputs": [
    {
     "name": "stdout",
     "output_type": "stream",
     "text": [
      "0 - 0\n",
      "0 - 1\n",
      "0 - 2\n",
      "0 - 3\n",
      "0 - 4\n",
      "1 - 0\n"
     ]
    }
   ],
   "source": [
    "# 方法一\n",
    "# 自定义异常\n",
    "class Getoutofloop(Exception):\n",
    "    pass\n",
    "try:\n",
    "    for i in range(5):\n",
    "        for j in range(5):\n",
    "            if i == j == 1:\n",
    "                raise Getoutofloop()\n",
    "            else:\n",
    "                print(i, '-', j)\n",
    "except Getoutofloop:\n",
    "    pass"
   ]
  },
  {
   "cell_type": "code",
   "execution_count": 2,
   "metadata": {},
   "outputs": [
    {
     "name": "stdout",
     "output_type": "stream",
     "text": [
      "0 - 0\n",
      "0 - 1\n",
      "0 - 2\n",
      "0 - 3\n",
      "0 - 4\n",
      "1 - 0\n"
     ]
    }
   ],
   "source": [
    "# 方法二\n",
    "# 封装为函数\n",
    "def Getoutofloop():\n",
    "    for i in range(5):\n",
    "        for j in range(5):\n",
    "            if i == j == 1:\n",
    "                return\n",
    "            else:\n",
    "                print(i, '-', j)\n",
    "Getoutofloop()"
   ]
  },
  {
   "cell_type": "markdown",
   "metadata": {},
   "source": [
    "### 方法三\n",
    "* break能跳出某一重循环（该重循环的本次及剩余次数都不再执行），但并不能跳出该重循环的其他外重循环。\n",
    "* continue是跳过某一重循环的某一次，但该重循环的剩余次数会继续执行。\n",
    "* for...else：其中else块中的语句将在for循环完整执行过之后才会被执行，如果for循环被break，则else块将不会被执行"
   ]
  },
  {
   "cell_type": "code",
   "execution_count": 4,
   "metadata": {},
   "outputs": [
    {
     "name": "stdout",
     "output_type": "stream",
     "text": [
      "0 - 0\n",
      "0 - 1\n",
      "0 - 2\n",
      "0 - 3\n",
      "0 - 4\n",
      "1 - 0\n"
     ]
    }
   ],
   "source": [
    "# 方法三\n",
    "# 用if else跳出\n",
    "for i in range(5):\n",
    "    for j in range(5):\n",
    "        if i == j == 1:\n",
    "            break\n",
    "        else:\n",
    "            print(i, '-', j)\n",
    "    else:\n",
    "        continue\n",
    "    break"
   ]
  }
 ],
 "metadata": {
  "kernelspec": {
   "display_name": "Python 3",
   "language": "python",
   "name": "python3"
  },
  "language_info": {
   "codemirror_mode": {
    "name": "ipython",
    "version": 3
   },
   "file_extension": ".py",
   "mimetype": "text/x-python",
   "name": "python",
   "nbconvert_exporter": "python",
   "pygments_lexer": "ipython3",
   "version": "3.6.4"
  }
 },
 "nbformat": 4,
 "nbformat_minor": 2
}
