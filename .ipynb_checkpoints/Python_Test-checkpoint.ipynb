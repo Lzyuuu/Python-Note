{
 "cells": [
  {
   "cell_type": "code",
   "execution_count": 2,
   "metadata": {},
   "outputs": [
    {
     "name": "stdout",
     "output_type": "stream",
     "text": [
      "Program 1. Coordinate function\n",
      "Call sub function\n",
      "Coord:{'x': 0, 'y': 0}\n",
      "Call add function\n",
      "Coord:{'x': 100, 'y': 200}\n"
     ]
    }
   ],
   "source": [
    "# Program 1 对坐标进行加减，并通过装饰器检测边界\n",
    "# Coordinate Program Start\n",
    "print('Program 1. Coordinate function')\n",
    "# 定义坐标类\n",
    "class Coordinate(object):\n",
    "    def __init__(self, x, y):\n",
    "        self.x = x\n",
    "        self.y = y\n",
    "    def __repr__(self):\n",
    "        return \"Coord:\" + str(self.__dict__)\n",
    "\n",
    "one = Coordinate(100, 200)\n",
    "two = Coordinate(300, 200)\n",
    "three = Coordinate(-100, -100)\n",
    "\n",
    "def wrapper(some_func):\n",
    "    def checker(a, b):\n",
    "        print('Call %s function' % some_func.__name__)\n",
    "        if a.x < 0 or a.y < 0:\n",
    "            a = Coordinate(a.x if a.x > 0 else 0, a.y if a.y > 0 else 0)\n",
    "        if b.x < 0 or b.y < 0:\n",
    "            b = Coordinate(b.x if b.x > 0 else 0, b.y if b.y > 0 else 0)\n",
    "        ret = some_func(a, b)\n",
    "        if ret.x < 0 or ret.y < 0:\n",
    "            ret = Coordinate(ret.x if ret.x > 0 else 0, ret.y if ret.y > 0 else 0)\n",
    "        return ret\n",
    "    return checker\n",
    "\n",
    "@wrapper\n",
    "def add(a, b):\n",
    "    return Coordinate(a.x + b.x, a.y + b.y)\n",
    "\n",
    "@wrapper\n",
    "def sub(a, b):\n",
    "    return Coordinate(a.x - b.x, a.y - b.y)\n",
    "\n",
    "print(sub(one, two))\n",
    "print(add(one, three))"
   ]
  },
  {
   "cell_type": "code",
   "execution_count": null,
   "metadata": {},
   "outputs": [],
   "source": []
  }
 ],
 "metadata": {
  "kernelspec": {
   "display_name": "Python 3",
   "language": "python",
   "name": "python3"
  },
  "language_info": {
   "codemirror_mode": {
    "name": "ipython",
    "version": 3
   },
   "file_extension": ".py",
   "mimetype": "text/x-python",
   "name": "python",
   "nbconvert_exporter": "python",
   "pygments_lexer": "ipython3",
   "version": "3.6.4"
  }
 },
 "nbformat": 4,
 "nbformat_minor": 2
}
