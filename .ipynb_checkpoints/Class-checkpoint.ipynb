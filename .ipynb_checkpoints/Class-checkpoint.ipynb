{
 "cells": [
  {
   "cell_type": "markdown",
   "metadata": {},
   "source": [
    "# 类"
   ]
  },
  {
   "cell_type": "code",
   "execution_count": 1,
   "metadata": {},
   "outputs": [
    {
     "name": "stdout",
     "output_type": "stream",
     "text": [
      "静态变量type:\n",
      "c1.type = car\n",
      "Static_car.type = car\n",
      "创建了类\n",
      "car\n",
      "car\n",
      "name:Lamborghini, colour:yellow\n"
     ]
    }
   ],
   "source": [
    "# Program Start\n",
    "# 静态变量\n",
    "class Static_car(object):\n",
    "    type = 'car'\n",
    "c1 = Static_car()\n",
    "print('静态变量type:')\n",
    "print('c1.type = ' + c1.type)\n",
    "print('Static_car.type = ' + Static_car.type)\n",
    "\n",
    "# 动态变量\n",
    "class Init_car(object):\n",
    "    type = 'car'\n",
    "\n",
    "    def __init__(self, name, colour):\n",
    "        self.name = name\n",
    "        self.colour = colour\n",
    "        print('创建了类')\n",
    "\n",
    "c2 = Init_car('Lamborghini', 'yellow')\n",
    "print(c2.type)\n",
    "print(Init_car.type)\n",
    "print('name:%s, colour:%s'%(c2.name, c2.colour))"
   ]
  }
 ],
 "metadata": {
  "kernelspec": {
   "display_name": "Python 3",
   "language": "python",
   "name": "python3"
  },
  "language_info": {
   "codemirror_mode": {
    "name": "ipython",
    "version": 3
   },
   "file_extension": ".py",
   "mimetype": "text/x-python",
   "name": "python",
   "nbconvert_exporter": "python",
   "pygments_lexer": "ipython3",
   "version": "3.6.4"
  }
 },
 "nbformat": 4,
 "nbformat_minor": 2
}
