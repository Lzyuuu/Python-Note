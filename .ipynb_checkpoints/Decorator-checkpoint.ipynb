{
 "cells": [
  {
   "cell_type": "markdown",
   "metadata": {},
   "source": [
    "# 装饰器"
   ]
  },
  {
   "cell_type": "code",
   "execution_count": 3,
   "metadata": {},
   "outputs": [
    {
     "name": "stdout",
     "output_type": "stream",
     "text": [
      "call add()\n",
      "9\n"
     ]
    }
   ],
   "source": [
    "def addone(some_func):          # 定义 addone 装饰器，对输入的函数得到的数值结果加一\n",
    "    def inner(*args, **kw):     # 定义内嵌函数 inner ，最后是返回函数名，所以需要有内嵌函数的存在\n",
    "        print('call %s()' % some_func.__name__)     # 接收装饰对象的函数名并打印输出\n",
    "        ret = some_func(*args, **kw)        # 在内嵌函数中运行一次装饰对象函数\n",
    "        return ret + 1          # 返回数值加一的值\n",
    "    return inner                # 返回的是 inner 函数，因此需再次调用\n",
    "\n",
    "@addone     # 语法糖， addone 装饰器\n",
    "def add(x, y, z):\n",
    "    return x + y - z\n",
    "\n",
    "# 此处的 add 已经是装饰后的新函数\n",
    "result = add(5, 6, 3)\n",
    "print(result)"
   ]
  },
  {
   "cell_type": "code",
   "execution_count": 5,
   "metadata": {},
   "outputs": [
    {
     "name": "stdout",
     "output_type": "stream",
     "text": [
      "Program 1. Coordinate function\n",
      "Call sub function\n",
      "Coord:{'x': 0, 'y': 0}\n",
      "Call add function\n",
      "Coord:{'x': 100, 'y': 200}\n"
     ]
    }
   ],
   "source": [
    "# Program 1 对坐标进行加减，并通过装饰器检测边界\n",
    "# Coordinate Program Start\n",
    "print('Program 1. Coordinate function')\n",
    "# 定义坐标类\n",
    "class Coordinate(object):\n",
    "    def __init__(self, x, y):\n",
    "        self.x = x\n",
    "        self.y = y\n",
    "    def __repr__(self):\n",
    "        return \"Coord:\" + str(self.__dict__)\n",
    "\n",
    "one = Coordinate(100, 200)\n",
    "two = Coordinate(300, 200)\n",
    "three = Coordinate(-100, -100)\n",
    "\n",
    "def wrapper(some_func):\n",
    "    def checker(a, b):\n",
    "        print('Call %s function' % some_func.__name__)\n",
    "        if a.x < 0 or a.y < 0:\n",
    "            a = Coordinate(a.x if a.x > 0 else 0, a.y if a.y > 0 else 0)\n",
    "        if b.x < 0 or b.y < 0:\n",
    "            b = Coordinate(b.x if b.x > 0 else 0, b.y if b.y > 0 else 0)\n",
    "        ret = some_func(a, b)\n",
    "        if ret.x < 0 or ret.y < 0:\n",
    "            ret = Coordinate(ret.x if ret.x > 0 else 0, ret.y if ret.y > 0 else 0)\n",
    "        return ret\n",
    "    return checker\n",
    "\n",
    "@wrapper\n",
    "def add(a, b):\n",
    "    return Coordinate(a.x + b.x, a.y + b.y)\n",
    "\n",
    "@wrapper\n",
    "def sub(a, b):\n",
    "    return Coordinate(a.x - b.x, a.y - b.y)\n",
    "\n",
    "print(sub(one, two))\n",
    "print(add(one, three))"
   ]
  },
  {
   "cell_type": "code",
   "execution_count": 4,
   "metadata": {},
   "outputs": [
    {
     "name": "stdout",
     "output_type": "stream",
     "text": [
      "========================\n",
      "Program 2. Function Time\n",
      "Call factorial function, use 0.000021 second\n"
     ]
    },
    {
     "data": {
      "text/plain": [
       "2.09808349609375e-05"
      ]
     },
     "execution_count": 4,
     "metadata": {},
     "output_type": "execute_result"
    }
   ],
   "source": [
    "# Program 2 设计一个时间区间计算的装饰器，计算阶乘函数的运行时间\n",
    "# Function Time Program Start\n",
    "import time\n",
    "import functools\n",
    "\n",
    "print('========================')\n",
    "print('Program 2. Function Time')\n",
    "\n",
    "def timing(some_func):\n",
    "    def caltime(*args, **kw):\n",
    "        t1 = time.time()\n",
    "        some_func(*args, **kw)\n",
    "        t2 = time.time()\n",
    "        print('Call %s function, use %f second' % (some_func.__name__, t2 - t1))\n",
    "        return t2 - t1\n",
    "    return caltime\n",
    "\n",
    "@timing\n",
    "def factorial(n):\n",
    "    return functools.reduce(lambda x,y : x * y, range(1, n+1))\n",
    "\n",
    "factorial(50)"
   ]
  },
  {
   "cell_type": "code",
   "execution_count": 4,
   "metadata": {},
   "outputs": [
    {
     "name": "stdout",
     "output_type": "stream",
     "text": [
      "========================\n",
      "Program 3\n",
      "Call factorials function, use 0.000015 s\n",
      "factorials\n"
     ]
    }
   ],
   "source": [
    "# Program 3 设计一个带参数的装饰器\n",
    "# 实际上是利用了二层嵌套，定义一个装饰加强器，来对装饰器进行加强，返回一个新的装饰器，再用新的装饰器处理函数\n",
    "import time\n",
    "import functools\n",
    "\n",
    "print('========================')\n",
    "print('Program 3')\n",
    "\n",
    "def decomaker(arg):\n",
    "    def decotiming(some_func):\n",
    "        @functools.wraps(some_func)    # 如果注释掉此处则最后输出的函数名为 caltime ，目的是将some_func中的状态抓取出来赋予给装饰后的函数\n",
    "        def caltime(*args, **kw):\n",
    "            t1 = time.time()\n",
    "            some_func(*args, **kw)\n",
    "            t2 = time.time()\n",
    "            if arg == 's':\n",
    "                print('Call %s function, use %f s' % (some_func.__name__, t2 - t1))\n",
    "            elif arg == 'ms':\n",
    "                print('Call %s function, use %f ms' % (some_func.__name__, 1000*(t2 - t1)))\n",
    "            else:\n",
    "                print('ERROR')\n",
    "            return t2 - t1\n",
    "        return caltime\n",
    "    return decotiming\n",
    "\n",
    "@decomaker('s')\n",
    "def factorials(n):\n",
    "    return functools.reduce(lambda x, y : x * y, range(1, n+1))\n",
    "\n",
    "factorials(50)\n",
    "\n",
    "print(factorials.__name__)"
   ]
  }
 ],
 "metadata": {
  "kernelspec": {
   "display_name": "Python 3",
   "language": "python",
   "name": "python3"
  },
  "language_info": {
   "codemirror_mode": {
    "name": "ipython",
    "version": 3
   },
   "file_extension": ".py",
   "mimetype": "text/x-python",
   "name": "python",
   "nbconvert_exporter": "python",
   "pygments_lexer": "ipython3",
   "version": "3.6.4"
  }
 },
 "nbformat": 4,
 "nbformat_minor": 2
}
